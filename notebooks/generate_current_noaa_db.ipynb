{
 "cells": [
  {
   "cell_type": "markdown",
   "metadata": {},
   "source": [
    "# Surfcast DB Tests\n",
    "### Sebastian D. Goodfellow, Ph.D."
   ]
  },
  {
   "cell_type": "code",
   "execution_count": 13,
   "metadata": {},
   "outputs": [
    {
     "name": "stdout",
     "output_type": "stream",
     "text": [
      "The autoreload extension is already loaded. To reload it, use:\n",
      "  %reload_ext autoreload\n"
     ]
    }
   ],
   "source": [
    "# Import 3rd party libraries\n",
    "import sys\n",
    "\n",
    "# Import local Libraries\n",
    "sys.path.insert(0, r'.\\..')\n",
    "from surfcast import DATA_DIR\n",
    "from surfcast.data.noaa_db import NOAADB\n",
    "from surfcast.data.surfcast_db import SurfcastDB\n",
    "\n",
    "# Configure Notebook\n",
    "import warnings\n",
    "warnings.filterwarnings('ignore')\n",
    "%matplotlib inline\n",
    "%load_ext autoreload\n",
    "%autoreload 2"
   ]
  },
  {
   "cell_type": "markdown",
   "metadata": {},
   "source": [
    "# Surfcast Database"
   ]
  },
  {
   "cell_type": "code",
   "execution_count": 14,
   "metadata": {},
   "outputs": [
    {
     "name": "stdout",
     "output_type": "stream",
     "text": [
      "Connecting to existing database...\n",
      "\n"
     ]
    }
   ],
   "source": [
    "# Initialize Surfcast database\n",
    "surfcast_db = SurfcastDB()"
   ]
  },
  {
   "cell_type": "code",
   "execution_count": 15,
   "metadata": {},
   "outputs": [
    {
     "name": "stdout",
     "output_type": "stream",
     "text": [
      "Pulling most recent NOAA files...\n",
      "Pulling NCAST files...\n",
      "Complete.\n",
      "Pulling FCAST files...\n",
      "Complete.\n",
      "\n",
      "Updating NCAST files...\n",
      "Updating FCAST files...\n"
     ]
    }
   ],
   "source": [
    "# Update NCAST and FCAST files database\n",
    "surfcast_db.update_files_tables()"
   ]
  },
  {
   "cell_type": "code",
   "execution_count": 16,
   "metadata": {
    "scrolled": false
   },
   "outputs": [
    {
     "name": "stdout",
     "output_type": "stream",
     "text": [
      "Processing 3 NCAST forecasts...\n",
      "ncast 2020-01-23 06:00:00+00:00 forecast processing...\n",
      "Processing complete: 0.5583 minutes\n",
      "Processed 1 / 3 NCAST forecasts\n",
      "ncast 2020-01-23 00:00:00+00:00 forecast processing...\n",
      "Processing complete: 0.3459 minutes\n",
      "Processed 2 / 3 NCAST forecasts\n",
      "ncast 2020-01-22 18:00:00+00:00 forecast processing...\n",
      "Processing complete: 0.4257 minutes\n",
      "Processed 3 / 3 NCAST forecasts\n",
      "Processing 2 FCAST forecasts...\n",
      "fcast 2020-01-23 12:00:00+00:00 forecast processing...\n",
      "Processing complete: 4.5594 minutes\n",
      "Processed 1 / 2 FCAST forecasts\n",
      "fcast 2020-01-23 00:00:00+00:00 forecast processing...\n",
      "Processing complete: 4.1411 minutes\n",
      "Processed 2 / 2 FCAST forecasts\n"
     ]
    }
   ],
   "source": [
    "# Update NCAST and FCAST files database\n",
    "surfcast_db.update_grid_data_tables()"
   ]
  },
  {
   "cell_type": "code",
   "execution_count": null,
   "metadata": {},
   "outputs": [],
   "source": []
  }
 ],
 "metadata": {
  "kernelspec": {
   "display_name": "Python 3",
   "language": "python",
   "name": "python3"
  },
  "language_info": {
   "codemirror_mode": {
    "name": "ipython",
    "version": 3
   },
   "file_extension": ".py",
   "mimetype": "text/x-python",
   "name": "python",
   "nbconvert_exporter": "python",
   "pygments_lexer": "ipython3",
   "version": "3.7.4"
  }
 },
 "nbformat": 4,
 "nbformat_minor": 2
}
