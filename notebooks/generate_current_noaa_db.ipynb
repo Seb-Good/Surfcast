{
 "cells": [
  {
   "cell_type": "markdown",
   "metadata": {},
   "source": [
    "# Surfcast DB Tests\n",
    "### Sebastian D. Goodfellow, Ph.D."
   ]
  },
  {
   "cell_type": "code",
   "execution_count": 1,
   "metadata": {},
   "outputs": [],
   "source": [
    "# Import 3rd party libraries\n",
    "import sys\n",
    "\n",
    "# Import local Libraries\n",
    "sys.path.insert(0, r'.\\..')\n",
    "from surfcast import DATA_DIR\n",
    "from surfcast.data.noaa_db import NOAADB\n",
    "from surfcast.data.surfcast_db import SurfcastDB\n",
    "\n",
    "# Configure Notebook\n",
    "import warnings\n",
    "warnings.filterwarnings('ignore')\n",
    "%matplotlib inline\n",
    "%load_ext autoreload\n",
    "%autoreload 2"
   ]
  },
  {
   "cell_type": "markdown",
   "metadata": {},
   "source": [
    "# Surfcast Database"
   ]
  },
  {
   "cell_type": "code",
   "execution_count": 2,
   "metadata": {},
   "outputs": [
    {
     "name": "stdout",
     "output_type": "stream",
     "text": [
      "Creating new database...\n",
      "\n",
      "Downloading NOAA map file superior10km.map\n",
      "Download complete: 0.3598 minutes\n",
      "Text parsing complete: 0.0001 minutes\n",
      "Map data formatted: 0.0004 minutes\n",
      "Pushing map data to SQL table...\n",
      "\n",
      "Downloading NOAA map file ontario5km.map\n",
      "Download complete: 0.3599 minutes\n",
      "Text parsing complete: 0.0 minutes\n",
      "Map data formatted: 0.0001 minutes\n",
      "Pushing map data to SQL table...\n",
      "\n",
      "Downloading NOAA map file michigan2km.map\n",
      "Download complete: 0.3652 minutes\n",
      "Text parsing complete: 0.0001 minutes\n",
      "Map data formatted: 0.0008 minutes\n",
      "Pushing map data to SQL table...\n",
      "\n",
      "Downloading NOAA map file huron2km.map\n",
      "Download complete: 0.3654 minutes\n",
      "Text parsing complete: 0.0005 minutes\n",
      "Map data formatted: 0.002 minutes\n",
      "Pushing map data to SQL table...\n",
      "\n",
      "Downloading NOAA map file erie2km.map\n",
      "Download complete: 0.387 minutes\n",
      "Text parsing complete: 0.0001 minutes\n",
      "Map data formatted: 0.0004 minutes\n",
      "Pushing map data to SQL table...\n",
      "\n",
      "Pushing surf spots to SQL table...\n",
      "\n"
     ]
    }
   ],
   "source": [
    "# Initialize Surfcast database\n",
    "surfcast_db = SurfcastDB()"
   ]
  },
  {
   "cell_type": "code",
   "execution_count": 3,
   "metadata": {},
   "outputs": [
    {
     "name": "stdout",
     "output_type": "stream",
     "text": [
      "Pulling most recent NOAA files...\n",
      "Pulling NCAST files...\n",
      "Complete.\n",
      "Pulling FCAST files...\n",
      "Complete.\n",
      "\n",
      "Updating NCAST files...\n",
      "Updating FCAST files...\n"
     ]
    }
   ],
   "source": [
    "# Update NCAST and FCAST files database\n",
    "surfcast_db.update_files_tables()"
   ]
  },
  {
   "cell_type": "code",
   "execution_count": null,
   "metadata": {
    "scrolled": false
   },
   "outputs": [
    {
     "name": "stdout",
     "output_type": "stream",
     "text": [
      "Processing 33 NCAST forecasts...\n",
      "ncast 2020-02-16 18:00:00+00:00 forecast processing...\n"
     ]
    }
   ],
   "source": [
    "# Update NCAST and FCAST files database\n",
    "surfcast_db.update_grid_data_tables()"
   ]
  }
 ],
 "metadata": {
  "kernelspec": {
   "display_name": "Python 3",
   "language": "python",
   "name": "python3"
  },
  "language_info": {
   "codemirror_mode": {
    "name": "ipython",
    "version": 3
   },
   "file_extension": ".py",
   "mimetype": "text/x-python",
   "name": "python",
   "nbconvert_exporter": "python",
   "pygments_lexer": "ipython3",
   "version": "3.7.4"
  }
 },
 "nbformat": 4,
 "nbformat_minor": 2
}
